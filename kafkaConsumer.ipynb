{
 "cells": [
  {
   "cell_type": "code",
   "execution_count": null,
   "metadata": {},
   "outputs": [],
   "source": [
    "pip install kafka-python"
   ]
  },
  {
   "cell_type": "code",
   "execution_count": 1,
   "metadata": {},
   "outputs": [],
   "source": [
    "import pandas as pd\n",
    "from kafka import KafkaConsumer,KafkaProducer\n",
    "from time import sleep\n",
    "from json import dumps,loads\n",
    "import json"
   ]
  },
  {
   "cell_type": "code",
   "execution_count": 2,
   "metadata": {},
   "outputs": [],
   "source": [
    "consumer = KafkaConsumer('rider-updates',\n",
    "                         bootstrap_servers=[':9092'],\n",
    "                         value_deserializer = lambda x:loads(x.decode('utf-8')))"
   ]
  },
  {
   "cell_type": "code",
   "execution_count": null,
   "metadata": {},
   "outputs": [],
   "source": [
    "s3Bucket = []\n",
    "for c in consumer:\n",
    "    s3Bucket.append(c.value)\n",
    "print(len(s3Bucket))"
   ]
  },
  {
   "cell_type": "code",
   "execution_count": null,
   "metadata": {},
   "outputs": [],
   "source": [
    "import psycopg2\n",
    "from psycopg2.extensions import AsIs\n",
    "\n",
    "conn = psycopg2.connect(\n",
    "        host=\"localhost\",\n",
    "        user=\"postgres\",\n",
    "        password=\"postgres\",\n",
    "        database=\"postgres\" \n",
    " )\n",
    "\n",
    "cur = conn.cursor() \n",
    "# insert_statement = 'insert into stock_data (index,tradedate,open,high,low,close,adjclose,volume,closeusd) VALUES(%s,%s,%s,%s,%s,%s,%s,%s,%s)'\n",
    "# data = ('N225','2007-11-29',15339.61035,15555.04004,15339.61035,15513.74023,15513.74023,129800000.0,155.1374023)\n",
    "\n",
    "# cur.execute(insert_statement, data)\n",
    "# conn.commit()\n",
    "\n",
    "for x in s3Bucket:\n",
    "    columns = x.keys()\n",
    "    values = [x[column] for column in columns]\n",
    "    values = tuple(values)\n",
    "\n",
    "    insert_statement = 'insert into stock_data (index,tradedate,open,high,low,close,adjclose,volume,closeusd) VALUES(%s,%s,%s,%s,%s,%s,%s,%s,%s)'\n",
    "\n",
    "    print(cur.execute(insert_statement, values))\n",
    "    conn.commit()"
   ]
  },
  {
   "cell_type": "code",
   "execution_count": null,
   "metadata": {},
   "outputs": [],
   "source": [
    "for x in s3Bucket:\n",
    "    columns = x.keys()\n",
    "    values = [x[column] for column in columns]\n",
    "    print(tuple(values))"
   ]
  }
 ],
 "metadata": {
  "kernelspec": {
   "display_name": "Python 3",
   "language": "python",
   "name": "python3"
  },
  "language_info": {
   "codemirror_mode": {
    "name": "ipython",
    "version": 3
   },
   "file_extension": ".py",
   "mimetype": "text/x-python",
   "name": "python",
   "nbconvert_exporter": "python",
   "pygments_lexer": "ipython3",
   "version": "3.13.2"
  }
 },
 "nbformat": 4,
 "nbformat_minor": 2
}
